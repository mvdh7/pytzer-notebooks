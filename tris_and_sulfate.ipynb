{
 "cells": [
  {
   "cell_type": "markdown",
   "metadata": {},
   "source": [
    "# Extra sulfate and tris pH\n",
    "\n",
    "In the open ocean, the total sulfate concentration has a close linear correlation with salinity. However, in riverine or estuarine environments, terrestrial sulfate sources may cause deviations from this trend. Here, we use Pytzer to calculate the effect of such deviations on the pH of tris in artificial \"seawater\" such as might be used to calibrate pH measurements in these environments.\n",
    "\n",
    "## Select a Pitzer model\n",
    "\n",
    "We begin by importing the Python modules that we will need, and defining the solution's composition and conditions:"
   ]
  },
  {
   "cell_type": "code",
   "execution_count": 1,
   "metadata": {},
   "outputs": [],
   "source": [
    "from copy import deepcopy\n",
    "import numpy as np\n",
    "import pytzer as pz\n",
    "\n",
    "# Select which Pitzer model parameter library to use\n",
    "prmlib = deepcopy(pz.libraries.MarChemSpec)"
   ]
  },
  {
   "cell_type": "markdown",
   "metadata": {},
   "source": [
    "## Solution composition and conditions\n",
    "\n",
    "First, let's define which pH-conservative ions are present - that is, those not involved in the equilibria - and their concentrations. To start, we have the standard seawater composition of XYZ:"
   ]
  },
  {
   "cell_type": "code",
   "execution_count": 2,
   "metadata": {},
   "outputs": [],
   "source": [
    "fixmols = np.array([0.44516, 0.05518, 0.01077, 0.01058, 0.56912]) # in mol/kg-H2O\n",
    "fixions = np.array(['Na', 'Mg', 'Ca', 'K', 'Cl'])"
   ]
  },
  {
   "cell_type": "markdown",
   "metadata": {},
   "source": [
    "Next, we define the equilibria that we want to consider, and the total concentrations of the relevant chemical species:"
   ]
  },
  {
   "cell_type": "code",
   "execution_count": 3,
   "metadata": {},
   "outputs": [],
   "source": [
    "tots = np.array([0.08, 0.02926]) # in mol/kg-H2O\n",
    "eles = np.array(['t_trisH', 't_HSO4'])"
   ]
  },
  {
   "cell_type": "markdown",
   "metadata": {},
   "source": [
    "The final inputs define the solution conditions. We begin at 25 °C and 1 atmosphere:"
   ]
  },
  {
   "cell_type": "code",
   "execution_count": 4,
   "metadata": {},
   "outputs": [],
   "source": [
    "tempK = np.array([298.15]) # temperature in K\n",
    "pres = np.array([10.10325]) # pressure in dbar"
   ]
  },
  {
   "cell_type": "markdown",
   "metadata": {},
   "source": [
    "## Preparations for Pytzer\n",
    "\n",
    "We now need to do some pre-processing to prepare these and other inputs Pytzer's equilibrium solving functions. The first function, `getallions`, creates a list of all of the ions in the solution, including those with fixed concentrations and those involved in the equilibria. The second function, `assemble`, evaluates all the Pitzer model interaction coefficients at the input temperature and pressure that are needed to calculate activity coefficients for the solution."
   ]
  },
  {
   "cell_type": "code",
   "execution_count": 5,
   "metadata": {},
   "outputs": [],
   "source": [
    "allions = pz.properties.getallions(eles, fixions)\n",
    "allmxs = pz.matrix.assemble(allions, tempK, pres, prmlib=prmlib)"
   ]
  },
  {
   "cell_type": "code",
   "execution_count": 6,
   "metadata": {},
   "outputs": [
    {
     "name": "stdout",
     "output_type": "stream",
     "text": [
      "[8.16930433]\n",
      "[8.05759334]\n"
     ]
    }
   ],
   "source": [
    "eqstate_guess = [0.0, -16.5, 30.0]\n",
    "lnks = np.array([\n",
    "    pz.dissociation.trisH_BH64(tempK),\n",
    "    pz.dissociation.HSO4_CRP94(tempK),\n",
    "    pz.dissociation.H2O_MF(tempK),\n",
    "])\n",
    "\n",
    "eqstate = pz.equilibrate.solvequick(eqstate_guess, tots, fixmols, eles, allions, fixions, allmxs, lnks)\n",
    "allmols, allions = pz.equilibrate.eqstate2mols(eqstate.x, tots, fixmols, eles, fixions)\n",
    "\n",
    "mH, mHSO4 = [allmols[allions == ion] for ion in ['H', 'HSO4']]\n",
    "pH_Free = -np.log10(mH)\n",
    "pH_Total = -np.log10(mH + mHSO4)\n",
    "\n",
    "print(pH_Free)\n",
    "print(pH_Total)"
   ]
  },
  {
   "cell_type": "markdown",
   "metadata": {},
   "source": [
    "Now add extra sulfate, charge-balanced by extra sodium cations:"
   ]
  },
  {
   "cell_type": "code",
   "execution_count": 7,
   "metadata": {},
   "outputs": [
    {
     "name": "stdout",
     "output_type": "stream",
     "text": [
      "[8.16538829]\n",
      "[7.97394375]\n"
     ]
    }
   ],
   "source": [
    "fixmols_extra = deepcopy(fixmols)\n",
    "tots_extra = deepcopy(tots)\n",
    "extra_Na2SO4 = 0.02926\n",
    "fixmols_extra[fixions == 'Na'] += 2*extra_Na2SO4\n",
    "tots_extra[eles == 't_HSO4'] += extra_Na2SO4\n",
    "\n",
    "eqstate_extra = pz.equilibrate.solvequick(eqstate.x, tots_extra, fixmols_extra, eles, allions, fixions, allmxs, lnks)\n",
    "allmols_extra = pz.equilibrate.eqstate2mols(eqstate_extra.x, tots_extra, fixmols_extra, eles, fixions)[0]\n",
    "\n",
    "mH, mHSO4 = [allmols_extra[allions == ion] for ion in ['H', 'HSO4']]\n",
    "pH_Free = -np.log10(mH)\n",
    "pH_Total = -np.log10(mH + mHSO4)\n",
    "\n",
    "print(pH_Free)\n",
    "print(pH_Total)"
   ]
  },
  {
   "cell_type": "code",
   "execution_count": 7,
   "metadata": {},
   "outputs": [
    {
     "name": "stdout",
     "output_type": "stream",
     "text": [
      "[8.16930433]\n",
      "[8.05759334]\n",
      "[0.09850012]\n"
     ]
    },
    {
     "ename": "NameError",
     "evalue": "name 'pzt' is not defined",
     "output_type": "error",
     "traceback": [
      "\u001b[1;31m---------------------------------------------------------------------------\u001b[0m",
      "\u001b[1;31mNameError\u001b[0m                                 Traceback (most recent call last)",
      "\u001b[1;32m<ipython-input-7-6ca3228a2b6a>\u001b[0m in \u001b[0;36m<module>\u001b[1;34m\u001b[0m\n\u001b[0;32m     23\u001b[0m \u001b[0mprint\u001b[0m\u001b[1;33m(\u001b[0m\u001b[0md_pH_Total\u001b[0m\u001b[1;33m)\u001b[0m\u001b[1;33m\u001b[0m\u001b[1;33m\u001b[0m\u001b[0m\n\u001b[0;32m     24\u001b[0m \u001b[1;33m\u001b[0m\u001b[0m\n\u001b[1;32m---> 25\u001b[1;33m \u001b[0mpHgrad_HSO4\u001b[0m \u001b[1;33m=\u001b[0m \u001b[0mpzt\u001b[0m\u001b[1;33m.\u001b[0m\u001b[0mpHT_grad_HSO4\u001b[0m\u001b[1;33m(\u001b[0m\u001b[0msolutearrays\u001b[0m\u001b[1;33m,\u001b[0m \u001b[0mtempK\u001b[0m\u001b[1;33m,\u001b[0m \u001b[0mpres\u001b[0m\u001b[1;33m,\u001b[0m \u001b[0mlnk_HSO4\u001b[0m\u001b[1;33m,\u001b[0m \u001b[0mlnk_trisH\u001b[0m\u001b[1;33m,\u001b[0m \u001b[0mlnk_MgOH\u001b[0m\u001b[1;33m,\u001b[0m \u001b[0mlnk_H2O\u001b[0m\u001b[1;33m)\u001b[0m\u001b[1;33m\u001b[0m\u001b[1;33m\u001b[0m\u001b[0m\n\u001b[0m",
      "\u001b[1;31mNameError\u001b[0m: name 'pzt' is not defined"
     ]
    }
   ],
   "source": [
    "from scipy.misc import derivative\n",
    "\n",
    "def getpH(eqstate_guess, tots, fixmols, eles, allions, fixions, allmxs, lnk_trisH, lnk_HSO4, lnk_H2O):\n",
    "    lnks = np.array([lnk_trisH, lnk_HSO4, lnk_H2O])\n",
    "    eqstate = pz.equilibrate.solvequick(eqstate_guess, tots, fixmols, eles, allions, fixions, allmxs, lnks)\n",
    "    allmols = pz.equilibrate.eqstate2mols(eqstate.x, tots, fixmols, eles, fixions)[0]\n",
    "    mH, mHSO4 = [allmols[allions == ion] for ion in ['H', 'HSO4']]\n",
    "    pH_Free = -np.log10(mH)\n",
    "    pH_Total = -np.log10(mH + mHSO4)\n",
    "    return pH_Free, pH_Total\n",
    "\n",
    "lnk_trisH = pz.dissociation.trisH_BH64(tempK)\n",
    "lnk_HSO4 = pz.dissociation.HSO4_CRP94(tempK)\n",
    "lnk_H2O = pz.dissociation.H2O_MF(tempK)\n",
    "pH_Free, pH_Total = getpH(eqstate_guess, tots, fixmols, eles, allions, fixions, allmxs, lnk_trisH, lnk_HSO4, lnk_H2O)\n",
    "\n",
    "d_pH_Total = derivative(lambda lnk_HSO4: getpH(eqstate_guess, tots, fixmols, eles, allions, fixions, allmxs,\n",
    "    lnk_trisH, lnk_HSO4, lnk_H2O)[1], lnk_HSO4, dx=1e-5)\n",
    "\n",
    "print(pH_Free)\n",
    "print(pH_Total)\n",
    "\n",
    "print(d_pH_Total)\n"
   ]
  },
  {
   "cell_type": "code",
   "execution_count": null,
   "metadata": {},
   "outputs": [],
   "source": [
    "print(d_pH_Total)"
   ]
  }
 ],
 "metadata": {
  "@webio": {
   "lastCommId": null,
   "lastKernelId": null
  },
  "kernelspec": {
   "display_name": "Python 3",
   "language": "python",
   "name": "python3"
  },
  "language_info": {
   "codemirror_mode": {
    "name": "ipython",
    "version": 3
   },
   "file_extension": ".py",
   "mimetype": "text/x-python",
   "name": "python",
   "nbconvert_exporter": "python",
   "pygments_lexer": "ipython3",
   "version": "3.7.4"
  }
 },
 "nbformat": 4,
 "nbformat_minor": 2
}
