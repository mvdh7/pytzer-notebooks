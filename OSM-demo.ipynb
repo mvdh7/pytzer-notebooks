{
 "cells": [
  {
   "cell_type": "markdown",
   "metadata": {},
   "source": [
    "<script type=\"text/x-mathjax-config\">\n",
    "MathJax.Hub.Config({tex2jax: {inlineMath: [['$','$'], ['\\\\(','\\\\)']]}});\n",
    "MathJax.Ajax.config.path[\"mhchem\"] = \"https://cdnjs.cloudflare.com/ajax/libs/mathjax-mhchem/3.3.2\";\n",
    "MathJax.Hub.Config({TeX: {extensions: [\"[mhchem]/mhchem.js\"]}});\n",
    "</script><script src='https://cdnjs.cloudflare.com/ajax/libs/mathjax/2.7.5/MathJax.js?config=TeX-MML-AM_CHTML' async></script>\n",
    "$$\\require{mhchem}$$\n",
    "\n",
    "## Using a Jupyter notebook\n",
    "\n",
    "This is a Jupyter notebook, that is, a collection of formatted text and live Python code.\n",
    "\n",
    "Text and code are separated into cells. The active cell is highlighted with a border with a thicker left edge in blue or green. You can activate a different cell by clicking it.\n",
    "\n",
    "To run all of the code within the active cell, just press Ctrl and Enter. `In [*]:` will appear at the top left corner while the code is running, and the `*` will turn into a number once it has finished. Any output from the code will then appear beneath the cell. *If you find at any point one of the text cells (e.g. this one) is no longer nicely formatted, but instead looks like code, just do the same: select it and press Ctrl and Enter to revert back.*\n",
    "\n",
    "In the code, lines beginning with `#` are just comments. We use comment lines with arrows to indicate which parts of the code you are encouraged to modify:\n",
    "\n",
    "```python\n",
    "# Don't change this bit!\n",
    "#-↓-↓-↓-↓-↓-↓-↓-↓-↓-↓-↓-↓-↓-↓-↓-↓-↓-↓-↓-↓-↓-↓-↓-↓\n",
    "\n",
    "# Do edit this section!\n",
    "\n",
    "#-↑-↑-↑-↑-↑-↑-↑-↑-↑-↑-↑-↑-↑-↑-↑-↑-↑-↑-↑-↑-↑-↑-↑-↑\n",
    "# Don't edit this part either!\n",
    "```\n",
    "\n",
    "Code cells need to be run in the order that they appear in the notebook, as the later cells depend on the results of calculations from earlier cells.\n",
    "\n",
    "---\n",
    "\n",
    "# Total pH in a tris buffer solution\n",
    "\n",
    "## Define the solution composition and conditions\n",
    "\n",
    "The first thing we need to do is to define the conditions (i.e. temperature and pressure) that the solution is under, and the molality of each solute dissolved within it (i.e. its composition). The molalities are divided into fixed values for pH-conservative solutes, and 'total' values for species that will be allowed to equilibrate.\n",
    "\n",
    "The included equilibria are:\n",
    "\n",
    "$$\\ce{trisH+} \\rightleftharpoons \\ce{tris} + \\ce{H+}$$\n",
    "\n",
    "$$\\ce{HSO4-} \\rightleftharpoons \\ce{SO4^2-} + \\ce{H+}$$\n",
    "\n",
    "$$\\ce{Mg^2+} + \\ce{OH-} \\rightleftharpoons \\ce{MgOH+}$$\n",
    "\n",
    "$$\\ce{H2O} \\rightleftharpoons \\ce{OH-} + \\ce{H+}$$\n",
    "\n",
    "In other words, this represents the Pitzer model formulated by Waters and Millero (2013), plus tris buffer.\n",
    "\n",
    "> Waters, J. F., and Millero, F. J. (2013). The free proton concentration scale for seawater pH. *Mar. Chem.* 149, 8–22. [doi:10.1016/j.marchem.2012.11.003](https://doi.org/10.1016/j.marchem.2012.11.003).\n",
    "\n",
    "In the first cell of code below, we define the molalities (in mol/kg-H<sub>2</sub>O) of each solute in the `solutes` [dictionary](https://docs.python.org/3/tutorial/datastructures.html#dictionaries). Fixed-concentration ions are specified simply using the relevant chemical symbol (e.g. `'Na'` for $\\ce{Na+}$), whereas total concentrations for equilibrating species are prefaced with `t_`, so:\n",
    "\n",
    "`solutes['t_HSO4']` $= [\\ce{HSO4-}] + [\\ce{SO4^2-}]$\n",
    "\n",
    "`solutes['t_trisH']` $= [\\ce{trisH+}] + [\\ce{tris}]$\n",
    "\n",
    "`solutes['t_Mg']` $= [\\ce{Mg^2+}] + [\\ce{MgOH+}]$\n",
    "\n",
    "There is no need to specify $[\\ce{H+}]$ or $[\\ce{OH-}]$, as these are determined by the solver itself.\n",
    "\n",
    "Select the code cell below and run it by pressing Ctrl and Enter together. The concentrations that have been defined should print out beneath the cell."
   ]
  },
  {
   "cell_type": "code",
   "execution_count": 10,
   "metadata": {
    "scrolled": true
   },
   "outputs": [
    {
     "name": "stdout",
     "output_type": "stream",
     "text": [
      "Fixed solute molalities:\n",
      "0.645160 mol/kg-H2O = [Na]\n",
      "0.010770 mol/kg-H2O = [Ca]\n",
      "0.010580 mol/kg-H2O = [K]\n",
      "0.569120 mol/kg-H2O = [Cl]\n",
      "\n",
      "Equilibrating solute total molalities:\n",
      "0.129260 mol/kg-H2O = [HSO4]\n",
      "0.055180 mol/kg-H2O = [Mg]\n",
      "0.080000 mol/kg-H2O = [trisH]\n"
     ]
    }
   ],
   "source": [
    "from numpy import log10, sqrt\n",
    "import pytzer as pz\n",
    "import pytzertools as pzt\n",
    "solutes = {}\n",
    "#-↓-↓-↓-↓-↓-↓-↓-↓-↓-↓-↓-↓-↓-↓-↓-↓-↓-↓-↓-↓-↓-↓-↓-↓\n",
    "\n",
    "# Set the temperature (in K) and pressure (in dbar)\n",
    "tempK = 298.15\n",
    "pres = 10.10325\n",
    "\n",
    "# Define the solutes and their molalities in mol/kg-H2O\n",
    "# First, the fixed-molality ions:\n",
    "solutes['Na'] = 0.44516\n",
    "solutes['Ca'] = 0.01077\n",
    "solutes['K' ] = 0.01058\n",
    "solutes['Cl'] = 0.56912\n",
    "# Then, solutes involved in equilibria:\n",
    "solutes['t_HSO4'] = 0.02926\n",
    "solutes['t_trisH'] = 0.08\n",
    "solutes['t_Mg'] = 0.05518\n",
    "\n",
    "# Add some extra sodium sulfate, for example\n",
    "extra_Na2SO4 = 0.0\n",
    "solutes['Na'] += extra_Na2SO4*2\n",
    "solutes['t_HSO4'] += extra_Na2SO4\n",
    "\n",
    "#-↑-↑-↑-↑-↑-↑-↑-↑-↑-↑-↑-↑-↑-↑-↑-↑-↑-↑-↑-↑-↑-↑-↑-↑\n",
    "# Convert everything into arrays for Pytzer, and print out the concentrations to check they look sensible\n",
    "solutearrays = pzt.solutes2arrays(solutes)\n",
    "pzt.printmols(*solutearrays)"
   ]
  },
  {
   "cell_type": "markdown",
   "metadata": {},
   "source": [
    "You may note that after the solute concentrations are originally defined, there are some extra lines of code to 'add some extra sodium sulfate'. The molality of extra sodium sulfate to add is set by the variable `extra_Na2SO4`, and you can see that this is added to the relevant entries in `solutes` in the subsequent two lines, taking into account the stoichiometry of the electrolyte.\n",
    "\n",
    "By default, the amount of extra sodium sulfate added is set to zero. You could try changing this value and seeing the effect on the calculations in the later code cells. You could also try adding a set amount of a different electrolyte by replicating and adjusting these three lines of code appropriately. For example, to add 0.1 mol/kg-H<sub>2</sub>O of KCl, you could add the following to the above code cell:\n",
    "\n",
    "```python\n",
    "extra_KCl = 0.1\n",
    "solutes['K'] += extra_KCl\n",
    "solutes['Cl'] += extra_KCl\n",
    "```\n",
    "\n",
    "## Solve for equilibrium\n",
    "\n",
    "Once the solution's composition and conditions have been defined and the code cell above executed, we can solve for the solution's equilibrium speciation. Running the following cell will do just that, and will then print out the equilibrium composition beneath:"
   ]
  },
  {
   "cell_type": "code",
   "execution_count": 11,
   "metadata": {},
   "outputs": [
    {
     "name": "stdout",
     "output_type": "stream",
     "text": [
      "Solute molalities:\n",
      "0.645160 mol/kg-H2O = [Na]\n",
      "0.010770 mol/kg-H2O = [Ca]\n",
      "0.010580 mol/kg-H2O = [K]\n",
      "0.569120 mol/kg-H2O = [Cl]\n",
      "0.000000 mol/kg-H2O = [HSO4]\n",
      "0.129260 mol/kg-H2O = [SO4]\n",
      "0.055176 mol/kg-H2O = [Mg]\n",
      "0.000004 mol/kg-H2O = [MgOH]\n",
      "0.040008 mol/kg-H2O = [trisH]\n",
      "0.039992 mol/kg-H2O = [tris]\n",
      "0.000000 mol/kg-H2O = [H]\n",
      "0.000004 mol/kg-H2O = [OH]\n"
     ]
    }
   ],
   "source": [
    "# Calculate and display equilibrium speciation\n",
    "allmols, allions = pzt.solve(solutearrays, tempK, pres)\n",
    "pzt.printmols(allions, allmols)"
   ]
  },
  {
   "cell_type": "markdown",
   "metadata": {},
   "source": [
    "## Calculate Total scale pH\n",
    "\n",
    "Our aim is to calculate the pH on the Total scale, defined as:\n",
    "\n",
    "$$\\text{pH}_\\text{T} = -\\log_{10}([\\ce{H+}] + [\\ce{HSO4-}])$$\n",
    "\n",
    "Now that we have calculated the equilibrium speciation in the cell above, we can just pull out the hydrogen and bisulfate ion molalities from the equilibrium calculation results and put them into the above equation:"
   ]
  },
  {
   "cell_type": "code",
   "execution_count": 12,
   "metadata": {},
   "outputs": [
    {
     "name": "stdout",
     "output_type": "stream",
     "text": [
      "Total scale pH = 7.842\n"
     ]
    }
   ],
   "source": [
    "# Extract H+ and HSO4- molalities from equilibrium results\n",
    "mH = allmols[allions == 'H']\n",
    "mHSO4 = allmols[allions == 'HSO4']\n",
    "\n",
    "# Add together & take the logarithm to get Total scale pH\n",
    "pH_Total = -log10(mH + mHSO4)\n",
    "print('Total scale pH = {:.3f}'.format(pH_Total[0]))"
   ]
  },
  {
   "cell_type": "markdown",
   "metadata": {},
   "source": [
    "At this point, you could go back to the first code cell and modify the solution composition, for example by increasing the amount of extra $\\ce{Na2SO4}$ that is added. If you then run the first three cells again in order, you will see the effect of the changing composition on the Total scale pH calculated here.\n",
    "\n",
    "## Uncertainty propagation\n",
    "\n",
    "The next step is to propagate uncertainties in the thermodynamic equilibrium constants for the equilibria in this system through to Total scale pH to see their relative importance. Uncertainty propagation requires knowing the derivative of the target variable with respect to each uncertain input. *Computationally, this step is a little slow as it involves calculating finite-difference gradients over a least-squares solver.*"
   ]
  },
  {
   "cell_type": "code",
   "execution_count": 13,
   "metadata": {},
   "outputs": [
    {
     "name": "stdout",
     "output_type": "stream",
     "text": [
      "Calculating pH gradients...\n",
      "+0.224182 = dpH/dlnK(HSO4)\n",
      "-0.434124 = dpH/dlnK(trisH)\n",
      "-0.000089 = dpH/dlnK(MgOH)\n",
      "-0.000172 = dpH/dlnK(H2O)\n",
      "Finished!\n"
     ]
    }
   ],
   "source": [
    "# Calculate derivative of pH w.r.t. each ln(K)\n",
    "pHgrads = pzt.pHgrads(solutearrays, tempK, pres)\n",
    "print('Finished!')"
   ]
  },
  {
   "cell_type": "markdown",
   "metadata": {},
   "source": [
    "Once we have those derivatives, we simply multiply them by the estimated uncertainty in each thermodynamic equilibrium constant to quantify the corresponding uncertainty in pH:"
   ]
  },
  {
   "cell_type": "code",
   "execution_count": 14,
   "metadata": {},
   "outputs": [
    {
     "name": "stdout",
     "output_type": "stream",
     "text": [
      "±0.010850 = uncertainty in Total pH due to K(HSO4)\n",
      "±0.008682 = uncertainty in Total pH due to K(trisH)\n",
      "±0.000002 = uncertainty in Total pH due to K(MgOH)\n",
      "±0.000004 = uncertainty in Total pH due to K(H2O)\n",
      "\n",
      "±0.013897 = total uncertainty in Total pH due to all thermodynamic Ks\n"
     ]
    }
   ],
   "source": [
    "uncert_lnk = {}\n",
    "#-↓-↓-↓-↓-↓-↓-↓-↓-↓-↓-↓-↓-↓-↓-↓-↓-↓-↓-↓-↓-↓-↓-↓-↓\n",
    "\n",
    "# Define uncertainties\n",
    "uncert_lnk['HSO4'] = 0.0484\n",
    "uncert_lnk['trisH'] = 0.02 # GUESSED PLACEHOLDER VALUE!!!\n",
    "uncert_lnk['MgOH'] = 0.022\n",
    "uncert_lnk['H2O'] = 0.023\n",
    "\n",
    "#-↑-↑-↑-↑-↑-↑-↑-↑-↑-↑-↑-↑-↑-↑-↑-↑-↑-↑-↑-↑-↑-↑-↑-↑\n",
    "# Propagate and print out uncertainties\n",
    "uncert_pHT = {eq: abs(uncert_lnk[eq]*pHgrads[eq]) for eq in pHgrads}\n",
    "total_uncert_pHT = sqrt(sum([uncert_pHT[eq]**2 for eq in uncert_pHT]))\n",
    "for eq in pHgrads:\n",
    "    print('±{:.6f} = uncertainty in Total pH due to K({})'.format(uncert_pHT[eq], eq))\n",
    "print('\\n±{:6f} = total uncertainty in Total pH due to all thermodynamic Ks'.format(total_uncert_pHT))"
   ]
  }
 ],
 "metadata": {
  "@webio": {
   "lastCommId": null,
   "lastKernelId": null
  },
  "kernelspec": {
   "display_name": "Python 3",
   "language": "python",
   "name": "python3"
  },
  "language_info": {
   "codemirror_mode": {
    "name": "ipython",
    "version": 3
   },
   "file_extension": ".py",
   "mimetype": "text/x-python",
   "name": "python",
   "nbconvert_exporter": "python",
   "pygments_lexer": "ipython3",
   "version": "3.7.4"
  }
 },
 "nbformat": 4,
 "nbformat_minor": 2
}
