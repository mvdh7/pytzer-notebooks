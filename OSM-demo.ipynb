{
 "cells": [
  {
   "cell_type": "markdown",
   "metadata": {},
   "source": [
    "## Using a Jupyter notebook\n",
    "\n",
    "This is a Jupyter notebook, that is, a collection of formatted text and live Python code.\n",
    "\n",
    "Text and code are separated into cells. The active cell is highlighted with a border with a thicker left edge in blue or green. You can activate a different cell by clicking it.\n",
    "\n",
    "To run all of the code within the active cell, just press Ctrl and Enter. `In [*]:` will appear at the top left corner while the code is running, and the `*` will turn into a number once it has finished. Any output from the code will then appear beneath the cell. *If you find at any point one of the text cells (e.g. this one) is no longer nicely formatted, but instead looks like code, just do the same: select it and press Ctrl and Enter to revert back.*\n",
    "\n",
    "In the code, lines beginning with `#` are just comments. We use comment lines with arrows to indicate which parts of the code you are encouraged to modify:\n",
    "\n",
    "```python\n",
    "# Don't change this bit!\n",
    "#-↓-↓-↓-↓-↓-↓-↓-↓-↓-↓-↓-↓-↓-↓-↓-↓-↓-↓-↓-↓-↓-↓-↓-↓\n",
    "\n",
    "# Do edit this section!\n",
    "\n",
    "#-↑-↑-↑-↑-↑-↑-↑-↑-↑-↑-↑-↑-↑-↑-↑-↑-↑-↑-↑-↑-↑-↑-↑-↑\n",
    "# Don't edit this part either!\n",
    "```\n",
    "\n",
    "Code cells need to be run in the order that they appear in the notebook, as the later cells depend on the results of calculations from earlier cells.\n",
    "\n",
    "---\n",
    "\n",
    "# Total pH in a tris buffer solution\n",
    "\n",
    "## Define the solution composition and conditions\n",
    "\n",
    "The first thing we need to do is to define the conditions (i.e. temperature and pressure) that the solution is under, and the molality of each solute dissolved within it (i.e. its composition). The molalities are divided into fixed values for pH-conservative solutes, and 'total' values for species that will be allowed to equilibrate."
   ]
  },
  {
   "cell_type": "code",
   "execution_count": 9,
   "metadata": {
    "scrolled": true
   },
   "outputs": [
    {
     "name": "stdout",
     "output_type": "stream",
     "text": [
      "Fixed solute molalities:\n",
      "0.44516 mol/kg-H2O = [Na]\n",
      "0.01077 mol/kg-H2O = [Ca]\n",
      "0.01058 mol/kg-H2O = [K]\n",
      "0.56912 mol/kg-H2O = [Cl]\n",
      "\n",
      "Equilibrating solute total molalities:\n",
      "0.02926 mol/kg-H2O = [HSO4]\n",
      "0.05518 mol/kg-H2O = [Mg]\n",
      "0.08000 mol/kg-H2O = [trisH]\n"
     ]
    }
   ],
   "source": [
    "from numpy import log10, sqrt\n",
    "import pytzer as pz\n",
    "import pytzertools as pzt\n",
    "#-↓-↓-↓-↓-↓-↓-↓-↓-↓-↓-↓-↓-↓-↓-↓-↓-↓-↓-↓-↓-↓-↓-↓-↓\n",
    "\n",
    "# Set the temperature (in K) and pressure (in dbar)\n",
    "tempK = 298.15\n",
    "pres = 10.10325\n",
    "\n",
    "# Define the solutes and their molalities\n",
    "solutes = {\n",
    "# First, the fixed-molality ions:\n",
    "    'Na': 0.44516,\n",
    "    'Ca': 0.01077,\n",
    "    'K' : 0.01058,\n",
    "    'Cl': 0.56912,\n",
    "# Then, solutes involved in equilibria:\n",
    "    't_HSO4': 0.02926,\n",
    "    't_trisH': 0.08,\n",
    "    't_Mg': 0.05518,\n",
    "}\n",
    "\n",
    "# Add some extra sodium sulfate\n",
    "extra_Na2SO4 = 0.0\n",
    "solutes['Na'] += extra_Na2SO4*2\n",
    "solutes['t_HSO4'] += extra_Na2SO4\n",
    "\n",
    "#-↑-↑-↑-↑-↑-↑-↑-↑-↑-↑-↑-↑-↑-↑-↑-↑-↑-↑-↑-↑-↑-↑-↑-↑\n",
    "# Convert everything into arrays for Pytzer, and print out the concentrations to check they look sensible\n",
    "solutearrays = pzt.solutes2arrays(solutes)\n",
    "pzt.printmols(*solutearrays)"
   ]
  },
  {
   "cell_type": "markdown",
   "metadata": {},
   "source": [
    "## Solve for equilibrium\n",
    "\n",
    "Now we can solve for the solution's equilibrium speciation."
   ]
  },
  {
   "cell_type": "code",
   "execution_count": 2,
   "metadata": {},
   "outputs": [
    {
     "name": "stdout",
     "output_type": "stream",
     "text": [
      "Solute molalities:\n",
      "0.44516 mol/kg-H2O = [Na]\n",
      "0.01077 mol/kg-H2O = [Ca]\n",
      "0.01058 mol/kg-H2O = [K]\n",
      "0.56912 mol/kg-H2O = [Cl]\n",
      "0.00000 mol/kg-H2O = [HSO4]\n",
      "0.02926 mol/kg-H2O = [SO4]\n",
      "0.05518 mol/kg-H2O = [Mg]\n",
      "0.00000 mol/kg-H2O = [MgOH]\n",
      "0.04001 mol/kg-H2O = [trisH]\n",
      "0.03999 mol/kg-H2O = [tris]\n",
      "0.00000 mol/kg-H2O = [H]\n",
      "0.00000 mol/kg-H2O = [OH]\n"
     ]
    }
   ],
   "source": [
    "# Calculate and display equilibrium speciation\n",
    "allmols, allions = pzt.solve(solutearrays, tempK, pres)\n",
    "pzt.printmols(allions, allmols)"
   ]
  },
  {
   "cell_type": "code",
   "execution_count": 3,
   "metadata": {},
   "outputs": [
    {
     "name": "stdout",
     "output_type": "stream",
     "text": [
      "Total scale pH = 8.058\n"
     ]
    }
   ],
   "source": [
    "# Extract H+ and HSO4- molalities from equilibrium results\n",
    "mH = allmols[allions == 'H']\n",
    "mHSO4 = allmols[allions == 'HSO4']\n",
    "\n",
    "# Add together to get Total scale pH\n",
    "pH_Total = -log10(mH + mHSO4)\n",
    "\n",
    "# Display the result\n",
    "print('Total scale pH = {:.3f}'.format(pH_Total[0]))"
   ]
  },
  {
   "cell_type": "code",
   "execution_count": 4,
   "metadata": {},
   "outputs": [
    {
     "name": "stdout",
     "output_type": "stream",
     "text": [
      "0.09850009430323325 = dpH/dK(HSO4)\n",
      "-0.4341346144798308 = dpH/dK(trisH)\n",
      "-8.279865681970477e-05 = dpH/dK(MgOH)\n",
      "-0.00016112000622570122 = dpH/dK(H2O)\n"
     ]
    }
   ],
   "source": [
    "# Calculate derivative of pH w.r.t. each ln(K)\n",
    "pHgrads = pzt.pHgrads(solutearrays, tempK, pres)"
   ]
  },
  {
   "cell_type": "code",
   "execution_count": 10,
   "metadata": {},
   "outputs": [
    {
     "name": "stdout",
     "output_type": "stream",
     "text": [
      "0.0047674045642764895 = uncert. in pH due to K(HSO4)\n",
      "-0.004341346144798308 = uncert. in pH due to K(trisH)\n",
      "-1.821570450033505e-06 = uncert. in pH due to K(MgOH)\n",
      "-3.705760143191128e-06 = uncert. in pH due to K(H2O)\n",
      "0.006447902734937662\n"
     ]
    }
   ],
   "source": [
    "uncert_lnk = {}\n",
    "#-↓-↓-↓-↓-↓-↓-↓-↓-↓-↓-↓-↓-↓-↓-↓-↓-↓-↓-↓-↓-↓-↓-↓-↓\n",
    "\n",
    "# Define uncertainties\n",
    "uncert_lnk['HSO4'] = 0.0484\n",
    "uncert_lnk['trisH'] = 0.01 # PLACEHOLDER VALUE!!!\n",
    "uncert_lnk['MgOH'] = 0.022\n",
    "uncert_lnk['H2O'] = 0.023\n",
    "\n",
    "#-↑-↑-↑-↑-↑-↑-↑-↑-↑-↑-↑-↑-↑-↑-↑-↑-↑-↑-↑-↑-↑-↑-↑-↑\n",
    "# Propagate and print out uncertainties\n",
    "uncert_pHT = {eq: uncert_lnk[eq]*pHgrads[eq] for eq in pHgrads}\n",
    "total_uncert_pHT = sqrt(sum([uncert_pHT[eq]**2 for eq in uncert_pHT]))\n",
    "for eq in pHgrads:\n",
    "    print('{} = uncert. in pH due to K({})'.format(uncert_pHT[eq], eq))\n",
    "print(total_uncert_pHT)"
   ]
  }
 ],
 "metadata": {
  "@webio": {
   "lastCommId": null,
   "lastKernelId": null
  },
  "kernelspec": {
   "display_name": "Python 3",
   "language": "python",
   "name": "python3"
  },
  "language_info": {
   "codemirror_mode": {
    "name": "ipython",
    "version": 3
   },
   "file_extension": ".py",
   "mimetype": "text/x-python",
   "name": "python",
   "nbconvert_exporter": "python",
   "pygments_lexer": "ipython3",
   "version": "3.7.4"
  }
 },
 "nbformat": 4,
 "nbformat_minor": 2
}
