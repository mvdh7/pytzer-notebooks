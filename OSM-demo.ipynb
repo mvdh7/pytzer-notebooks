{
 "cells": [
  {
   "cell_type": "code",
   "execution_count": 4,
   "metadata": {},
   "outputs": [
    {
     "name": "stdout",
     "output_type": "stream",
     "text": [
      "Fixed solute molalities:\n",
      "[Na] = 0.45516 mol/kg-H2O\n",
      "[Mg] = 0.05518 mol/kg-H2O\n",
      "[Ca] = 0.01077 mol/kg-H2O\n",
      "[K ] = 0.01058 mol/kg-H2O\n",
      "[Cl] = 0.56912 mol/kg-H2O\n",
      "\n",
      "Equilibrating solute total molalities:\n",
      "[HSO4 ] = 0.03426 mol/kg-H2O\n",
      "[trisH] = 0.08000 mol/kg-H2O\n"
     ]
    }
   ],
   "source": [
    "import numpy as np\n",
    "from scipy.misc import derivative\n",
    "import pytzer as pz\n",
    "import pytzertools as pzt\n",
    "\n",
    "#-↓-↓-↓-↓-↓-↓-↓-↓-↓-↓-↓-↓-↓-↓-↓-↓-↓-↓-↓-↓-↓-↓-↓-↓\n",
    "\n",
    "# Set the temperature (in K) and pressure (in dbar)\n",
    "tempK = 298.15\n",
    "pres = 10.10325\n",
    "\n",
    "# Define the solutes and their molalities\n",
    "solutes = {\n",
    "# First, the fixed-molality ions:\n",
    "    'Na': 0.44516,\n",
    "    'Mg': 0.05518,\n",
    "    'Ca': 0.01077,\n",
    "    'K' : 0.01058,\n",
    "    'Cl': 0.56912,\n",
    "# Then, solutes involved in equilibria:\n",
    "    't_HSO4': 0.02926,\n",
    "    't_trisH': 0.08,\n",
    "}\n",
    "\n",
    "# Add some extra sodium sulfate\n",
    "extra_Na2SO4 = 0.005\n",
    "solutes['Na'] += extra_Na2SO4*2\n",
    "solutes['t_HSO4'] += extra_Na2SO4\n",
    "\n",
    "#-↑-↑-↑-↑-↑-↑-↑-↑-↑-↑-↑-↑-↑-↑-↑-↑-↑-↑-↑-↑-↑-↑-↑-↑\n",
    "\n",
    "# Convert everything into arrays for Pytzer, and print out the concentrations to check they look sensible\n",
    "fixions, fixmols, eles, tots = pzt.solutes2arrays(solutes)\n",
    "print('Fixed solute molalities:')\n",
    "for i, ion in enumerate(fixions):\n",
    "    print('[{:2}] = {:.5f} mol/kg-H2O'.format(ion, fixmols[i]))\n",
    "print('\\nEquilibrating solute total molalities:')\n",
    "for e, ele in enumerate(eles):\n",
    "    print('[{:5}] = {:.5f} mol/kg-H2O'.format(ele.split('t_')[1], tots[e]))"
   ]
  },
  {
   "cell_type": "code",
   "execution_count": 2,
   "metadata": {},
   "outputs": [],
   "source": [
    "eqstate_guess = [0.0, -16.5, 30.0]\n",
    "lnks = np.array([\n",
    "    pz.dissociation.trisH_BH64(tempK),\n",
    "    pz.dissociation.HSO4_CRP94(tempK),\n",
    "    pz.dissociation.H2O_MF(tempK),\n",
    "])"
   ]
  }
 ],
 "metadata": {
  "@webio": {
   "lastCommId": null,
   "lastKernelId": null
  },
  "kernelspec": {
   "display_name": "Python 3",
   "language": "python",
   "name": "python3"
  },
  "language_info": {
   "codemirror_mode": {
    "name": "ipython",
    "version": 3
   },
   "file_extension": ".py",
   "mimetype": "text/x-python",
   "name": "python",
   "nbconvert_exporter": "python",
   "pygments_lexer": "ipython3",
   "version": "3.7.4"
  }
 },
 "nbformat": 4,
 "nbformat_minor": 2
}
